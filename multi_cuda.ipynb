{
  "nbformat": 4,
  "nbformat_minor": 0,
  "metadata": {
    "colab": {
      "provenance": [],
      "gpuType": "T4"
    },
    "kernelspec": {
      "name": "python3",
      "display_name": "Python 3"
    },
    "language_info": {
      "name": "python"
    },
    "accelerator": "GPU",
    "gpuClass": "standard"
  },
  "cells": [
    {
      "cell_type": "code",
      "source": [
        "!pip install git+https://github.com/andreinechaev/nvcc4jupyter.git"
      ],
      "metadata": {
        "colab": {
          "base_uri": "https://localhost:8080/"
        },
        "id": "7xFsigIS-cPB",
        "outputId": "00810595-4b8c-419a-8334-f16944ee3fd4"
      },
      "execution_count": 1,
      "outputs": [
        {
          "output_type": "stream",
          "name": "stdout",
          "text": [
            "Looking in indexes: https://pypi.org/simple, https://us-python.pkg.dev/colab-wheels/public/simple/\n",
            "Collecting git+https://github.com/andreinechaev/nvcc4jupyter.git\n",
            "  Cloning https://github.com/andreinechaev/nvcc4jupyter.git to /tmp/pip-req-build-qjeu6br5\n",
            "  Running command git clone --filter=blob:none --quiet https://github.com/andreinechaev/nvcc4jupyter.git /tmp/pip-req-build-qjeu6br5\n",
            "  Resolved https://github.com/andreinechaev/nvcc4jupyter.git to commit aac710a35f52bb78ab34d2e52517237941399eff\n",
            "  Preparing metadata (setup.py) ... \u001b[?25l\u001b[?25hdone\n",
            "Building wheels for collected packages: NVCCPlugin\n",
            "  Building wheel for NVCCPlugin (setup.py) ... \u001b[?25l\u001b[?25hdone\n",
            "  Created wheel for NVCCPlugin: filename=NVCCPlugin-0.0.2-py3-none-any.whl size=4287 sha256=4845af972f8200c5aca5263d66b1b1a57da5ff1336380b1ecde83a4e413df659\n",
            "  Stored in directory: /tmp/pip-ephem-wheel-cache-orr_hm50/wheels/a8/b9/18/23f8ef71ceb0f63297dd1903aedd067e6243a68ea756d6feea\n",
            "Successfully built NVCCPlugin\n",
            "Installing collected packages: NVCCPlugin\n",
            "Successfully installed NVCCPlugin-0.0.2\n"
          ]
        }
      ]
    },
    {
      "cell_type": "code",
      "source": [
        "%load_ext nvcc_plugin"
      ],
      "metadata": {
        "colab": {
          "base_uri": "https://localhost:8080/"
        },
        "id": "fgMoIsyW45gy",
        "outputId": "8f6a574e-3c9d-4660-c670-8aeecf622fcd"
      },
      "execution_count": 2,
      "outputs": [
        {
          "output_type": "stream",
          "name": "stdout",
          "text": [
            "created output directory at /content/src\n",
            "Out bin /content/result.out\n"
          ]
        }
      ]
    },
    {
      "cell_type": "code",
      "execution_count": 3,
      "metadata": {
        "colab": {
          "base_uri": "https://localhost:8080/"
        },
        "id": "T6ZoOCj4-H5P",
        "outputId": "4e2d3adf-7c9e-4f66-dffd-45f40f733395"
      },
      "outputs": [
        {
          "output_type": "stream",
          "name": "stdout",
          "text": [
            "sh: 1: pause: not found\n",
            "matrix result\n",
            "40   40   40   40   40   40   40   40   40   40   \n",
            "40   40   40   40   40   40   40   40   40   40   \n",
            "40   40   40   40   40   40   40   40   40   40   \n",
            "40   40   40   40   40   40   40   40   40   40   \n",
            "40   40   40   40   40   40   40   40   40   40   \n",
            "40   40   40   40   40   40   40   40   40   40   \n",
            "40   40   40   40   40   40   40   40   40   40   \n",
            "40   40   40   40   40   40   40   40   40   40   \n",
            "40   40   40   40   40   40   40   40   40   40   \n",
            "40   40   40   40   40   40   40   40   40   40   \n",
            "\n"
          ]
        }
      ],
      "source": [
        "%%cu\n",
        "#include<stdio.h>\n",
        "#define TILE_WIDTH 10\n",
        "\n",
        "__global__ void MatrixMul( int *Md , int *Nd , int *Pd , const int WIDTH )\n",
        "{\n",
        "\n",
        "           unsigned int col = TILE_WIDTH*blockIdx.x + threadIdx.x ;\n",
        "\n",
        "           unsigned int row = TILE_WIDTH*blockIdx.y + threadIdx.y ;\n",
        "\n",
        "           Pd[row*WIDTH + col]=0;\n",
        "\n",
        "         for (int k = 0 ; k<WIDTH ; k++ )\n",
        "         {\n",
        "                  Pd[row*WIDTH + col]+= Md[row * WIDTH + k ] * Nd[ k * WIDTH + col] ;\n",
        "          }\n",
        "\n",
        "}\n",
        "\n",
        "int main ()\n",
        "{\n",
        "   const int WIDTH = 10;\n",
        "   int array1_h[WIDTH][WIDTH] ,array2_h[WIDTH][WIDTH],result_array_h[WIDTH][WIDTH];\n",
        "  int *array1_d , *array2_d ,*result_array_d ; \n",
        "  int i , j ;\n",
        " \n",
        "  for ( i = 0 ; i < WIDTH ; i++ )\n",
        "  {\n",
        "     for (j = 0 ; j < WIDTH ; j++ )\n",
        "     {\n",
        "       \n",
        "    \t array1_h[i][j]=2;\n",
        "    \t array2_h[i][j]=2;\n",
        "     }\n",
        "  }\n",
        "\n",
        "  cudaMalloc((void **) &array1_d , WIDTH*WIDTH*sizeof (int) ) ;\n",
        "\n",
        "  cudaMalloc((void **) &array2_d , WIDTH*WIDTH*sizeof (int) ) ;\n",
        "\n",
        "  cudaMemcpy ( array1_d , array1_h , WIDTH*WIDTH*sizeof (int) , cudaMemcpyHostToDevice ) ;\n",
        "\n",
        "  cudaMemcpy ( array2_d , array2_h , WIDTH*WIDTH*sizeof (int) , cudaMemcpyHostToDevice ) ;\n",
        "\n",
        "  cudaMalloc((void **) &result_array_d , WIDTH*WIDTH*sizeof (int) ) ;\n",
        "\n",
        "  dim3 dimGrid ( WIDTH/TILE_WIDTH , WIDTH/TILE_WIDTH ,1 ) ;\n",
        "\n",
        "  dim3 dimBlock( TILE_WIDTH, TILE_WIDTH, 1 ) ;\n",
        "  MatrixMul <<<dimGrid,dimBlock>>> ( array1_d , array2_d ,result_array_d , WIDTH) ;\n",
        "\n",
        "  cudaMemcpy(result_array_h , result_array_d , WIDTH*WIDTH*sizeof(int) ,cudaMemcpyDeviceToHost) ;\n",
        "\n",
        "  printf(\"matrix result\\n\");\n",
        "  for ( i = 0 ; i < WIDTH ; i++ )\n",
        "  {\n",
        "      for ( j = 0 ; j < WIDTH ; j++ )\n",
        "     {\n",
        "        printf (\"%d   \",result_array_h[i][j] ) ;\n",
        "     }\n",
        " printf (\"\\n\") ;\n",
        "}\n",
        " system(\"pause\") ;\n",
        "}"
      ]
    }
  ]
}